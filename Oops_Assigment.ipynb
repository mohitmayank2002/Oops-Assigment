{
  "nbformat": 4,
  "nbformat_minor": 0,
  "metadata": {
    "colab": {
      "provenance": []
    },
    "kernelspec": {
      "name": "python3",
      "display_name": "Python 3"
    },
    "language_info": {
      "name": "python"
    }
  },
  "cells": [
    {
      "cell_type": "markdown",
      "source": [
        "#Theoretical Question\n"
      ],
      "metadata": {
        "id": "JcUKg7EZHUZz"
      }
    },
    {
      "cell_type": "markdown",
      "source": [
        "1. What is Object-Oriented Programming (OOP)?\n",
        "\n",
        ">  Object-Oriented Programming is a programming model that organizes software design around data (objects) and their associated functions (methods), rather than logic and functions.\n",
        "\n",
        "\n",
        "---\n",
        "\n"
      ],
      "metadata": {
        "id": "UIX8V2KZGl7k"
      }
    },
    {
      "cell_type": "markdown",
      "source": [
        "2. What is a class in OOP?\n",
        "\n",
        ">  A class in oops is a blueprint or template for creating objects. It is a user-defined data type that defines a set of properties  and behaviors that all objects of that class will share. A class is a logical construct that does not occupy memory until an object is created from it.\n",
        "\n",
        "\n",
        "---\n",
        "\n"
      ],
      "metadata": {
        "id": "ZuCZGkz4HTn9"
      }
    },
    {
      "cell_type": "markdown",
      "source": [
        "3. What is an object in OOP?\n",
        "\n",
        ">  An object in oops is a fundamental building block that represents a real-world entity or a concept within a software system. It is an instance of a class, which serves as a blueprint or template defining the structure and behavior that objects of that type will possess.\n",
        "\n",
        "\n",
        "---\n",
        "\n"
      ],
      "metadata": {
        "id": "eDCAiMXiIIYS"
      }
    },
    {
      "cell_type": "markdown",
      "source": [
        "4. What is the difference between abstraction and encapsulation?\n",
        "\n",
        ">  **Abstraction**\n",
        "\n",
        "> Abstraction focuses on what an object does, rather than how it does it. It involves hiding complex implementation details and exposing only the essential functionalities or interfaces to the user. This simplifies the interaction with complex systems and allows users to focus on the high-level purpose without needing to understand the underlying mechanisms.\n",
        "\n",
        "> **Encapulation**\n",
        "\n",
        "> Encapsulation focuses on how an object's data and methods are bundled together and controlled for access. It involves wrapping data and the methods that operate on that data within a single unit (typically a class) and restricting direct access to the internal state. This promotes data integrity and prevents unauthorized modification.\n",
        "\n",
        "\n",
        "\n",
        "---\n",
        "\n"
      ],
      "metadata": {
        "id": "rq-BY8_ZIr06"
      }
    },
    {
      "cell_type": "markdown",
      "source": [
        "5. What are dunder methods in Python?\n",
        "\n",
        "> Dunder methods, also known as magic methods or special methods, are a core part of Python's object model. They are distinguished by their names, which begin and end with double underscores (e.g., __init__, __str__, __add__).\n",
        "\n",
        "\n",
        "---\n",
        "\n"
      ],
      "metadata": {
        "id": "YnJAzkW6JYSM"
      }
    },
    {
      "cell_type": "markdown",
      "source": [
        "6. Explain the concept of inheritance in OOP.\n",
        "\n",
        "> Inheritance in Oops is a fundamental concept that allows a new class to inherit properties and behaviors (methods) from an existing class. This establishes a hierarchical relationship between classes, promoting code reusability and modularity.\n",
        "\n",
        "\n",
        "\n",
        "---\n",
        "\n"
      ],
      "metadata": {
        "id": "4DDWdDgSJo8s"
      }
    },
    {
      "cell_type": "markdown",
      "source": [
        "7. What is polymorphism in OOP?\n",
        "\n",
        ">  Polymorphism in oops is the ability of an object, method, or interface to take on multiple forms or behave in different ways depending on the context or the specific object type it's interacting with. The term \"polymorphism\" itself means \"many-shaped\" from the Greek words poly (many) and morph (forms). This key OOP principle allows for more flexible, adaptable, and reusable code by enabling you to write generic algorithms that can operate on different object types, making programs more efficient and easier to maintain.\n",
        "\n",
        "\n",
        "---\n",
        "\n"
      ],
      "metadata": {
        "id": "JAi-8pdwJ6Bk"
      }
    },
    {
      "cell_type": "markdown",
      "source": [
        "8. How is encapsulation achieved in Python?\n",
        "\n",
        "> Encapsulation in Python, which involves bundling data and methods that operate on that data within a single unit (a class) and restricting direct access to some of the object's components, is achieved primarily through conventions and some built-in mechanisms, as Python does not enforce strict access modifiers like public, private, or protected keywords found in other languages.\n",
        "\n",
        "\n",
        "---\n",
        "\n"
      ],
      "metadata": {
        "id": "ItEHO3HmKNOz"
      }
    },
    {
      "cell_type": "markdown",
      "source": [
        "9. What is a constructor in Python?\n",
        "\n",
        "> In Python, a constructor is a special method used to initialize a newly created object of a class. It is automatically called when an object (an instance) of a class is created. The primary purpose of a constructor is to set up the initial state of the object by assigning values to its attributes or performing any necessary setup logic.\n",
        "\n",
        "\n",
        "---\n",
        "\n"
      ],
      "metadata": {
        "id": "GQ9jIkHCKbdN"
      }
    },
    {
      "cell_type": "markdown",
      "source": [
        "10. What are class and static methods in Python?\n",
        "\n",
        ">  **Class Methods:**\n",
        "\n",
        "> Defined using the @classmethod decorator and take the class itself as their first argument, typically named cls.\n",
        "\n",
        "> **Purpose:**  Primarily used for operations that involve the class itself rather than a specific instance. They can access and modify class-level attributes and can be used to create alternative constructors for the class.\n",
        "\n",
        "\n",
        "\n",
        "> **Static Methods:**\n",
        "\n",
        "> Defined using the @staticmethod decorator and do not take any special first argument (like self or cls).\n",
        "\n",
        "> **Purpose:**\n",
        "Act as utility functions that are logically related to the class but do not require access to either instance-specific data or class-level attributes. They are essentially regular functions placed within a class's namespace for organizational purposes.\n",
        "\n",
        "\n",
        "---\n",
        "\n"
      ],
      "metadata": {
        "id": "5nR86srGPHZr"
      }
    },
    {
      "cell_type": "markdown",
      "source": [
        "\n",
        "11. What is method overloading in Python?\n",
        "\n",
        "> Method overloading in Python refers to the concept where multiple methods within a single class share the same name but are designed to handle different types or numbers of arguments. While Python does not support true method overloading in the same way as languages like Java or C++ (where you can define multiple methods with the same name but different parameter lists), it achieves similar functionality through flexible argument handling.\n",
        "\n",
        "\n",
        "---\n",
        "\n"
      ],
      "metadata": {
        "id": "kezqLBYNQM11"
      }
    },
    {
      "cell_type": "markdown",
      "source": [
        "12. What is method overriding in OOP?\n",
        "\n",
        "> Method overriding in OOP is when a subclass provides its own specific implementation of a method that is already defined in its superclass. This is a core concept for runtime polymorphism and relies on inheritance. For a method to be overridden, the method in the subclass must have the same name, return type, and parameter list as the method in the superclass.\n",
        "\n",
        "\n",
        "---\n",
        "\n"
      ],
      "metadata": {
        "id": "ZPjqfM4MQpCm"
      }
    },
    {
      "cell_type": "markdown",
      "source": [
        "13. What is a property decorator in Python?\n",
        "\n",
        "> The @property decorator in Python is a built-in decorator that allows you to define methods within a class that can be accessed like attributes, rather than requiring explicit method calls. It provides a \"Pythonic\" way to implement getters, setters, and deleters for class attributes, enabling controlled access and encapsulation.\n",
        "\n",
        "\n",
        "---\n",
        "\n"
      ],
      "metadata": {
        "id": "PN_Ww4b5Qz38"
      }
    },
    {
      "cell_type": "markdown",
      "source": [
        "14. Why is polymorphism important in OOP?\n",
        "\n",
        "> Polymorphism is important in OOP for increased flexibility, code reusability, and extensibility. It allows a single interface or method to take on different forms, enabling developers to write generic code that can operate on various object types seamlessly, leading to more maintainable, scalable, and efficient software systems.\n",
        "\n",
        "\n",
        "---\n",
        "\n"
      ],
      "metadata": {
        "id": "BBVHJuoNQ89c"
      }
    },
    {
      "cell_type": "markdown",
      "source": [
        "15. What is an abstract class in Python?\n",
        "\n",
        ">An abstract class in Python is a class that cannot be instantiated directly and serves as a blueprint for other classes. It is designed to define a common interface or set of rules that its subclasses must adhere to.\n",
        "\n",
        "\n",
        "---\n",
        "\n"
      ],
      "metadata": {
        "id": "0oSd7rqbRF09"
      }
    },
    {
      "cell_type": "markdown",
      "source": [
        "16. What are the advantages of OOP?\n",
        "\n",
        "> The advantage of oops is :\n",
        "\n",
        "> i. Modularity, allowing code to be divided into independent objects.\n",
        "\n",
        "> ii.Reusability, enabling the use of existing code in new programs through inheritance.\n",
        "\n",
        "> iii. Maintainability, making it easier to debug, update, and fix bugs.\n",
        "\n",
        "> iv. Scalability, facilitating easier expansion of programs to handle more data or features.\n",
        "\n",
        "> v.  Flexibility, provided by concepts like polymorphism and abstraction.\n",
        "\n",
        "\n",
        "---\n",
        "\n"
      ],
      "metadata": {
        "id": "cjOzIbidRSq_"
      }
    },
    {
      "cell_type": "markdown",
      "source": [
        "\n",
        "17. What is the difference between a class variable and an instance variable?\n",
        "\n",
        ">  **Class Variable:**\n",
        "\n",
        "> Scope & Sharing: A class variable is shared by all instances (objects) of a class. There is only one copy of a class variable for the entire class, regardless of how many objects are created from it.\n",
        "\n",
        "> Declaration: Declared within the class definition but outside any methods. In some languages like Java, they are typically declared with the static keyword.\n",
        "\n",
        "> Access: Accessed using the class name (e.g., ClassName.variable_name).\n",
        "\n",
        "> **Instance Variable:**\n",
        "\n",
        "> Scope & Sharing: An instance variable is unique to each instance (object) of a class. Each object created from the class will have its own separate copy of the instance variables.\n",
        "\n",
        "> Declaration: Declared within the class, but generally initialized within instance methods, often in the constructor (e.g., __init__ in Python, or the constructor in Java).\n",
        "\n",
        "> Access: Accessed using an object of the class (e.g., object_name.variable_name).\n",
        "\n",
        "\n",
        "---\n",
        "\n"
      ],
      "metadata": {
        "id": "o9ehUjPZSUbP"
      }
    },
    {
      "cell_type": "markdown",
      "source": [
        "18. What is multiple inheritance in Python?\n",
        "\n",
        "> Multiple inheritance in Python is a feature that allows a class to inherit attributes and methods from more than one parent class. This means a single child class can combine functionalities and characteristics from multiple distinct base classes.\n",
        "\n",
        "Example\n",
        "\n",
        "\n",
        "```\n",
        "    class Parent1:\n",
        "        def method1(self):\n",
        "            print(\"Method from Parent1\")\n",
        "\n",
        "    class Parent2:\n",
        "        def method2(self):\n",
        "            print(\"Method from Parent2\")\n",
        "\n",
        "    class Child(Parent1, Parent2):\n",
        "        pass\n",
        "```\n",
        "\n",
        "\n",
        "---\n",
        "\n",
        "\n"
      ],
      "metadata": {
        "id": "nXgsY4LITHh7"
      }
    },
    {
      "cell_type": "markdown",
      "source": [
        "19. Explain the purpose of \"str' and '_repr_''methods in Python.\n",
        "\n",
        "> The __str__  and ___repr___ methods in Python are special \"dunder\" (double underscore) methods that define how an object is represented as a string. They serve different purposes and are aimed at different audiences:\n",
        "\n",
        "> __str__ (for readability, aimed at users):\n",
        "\n",
        "> This method is intended to return a \"human-readable\" or informal string representation of an object. It is designed for displaying information to end-users and for use in contexts like print() statements, str() conversions, and f-strings. The output of __str__ should be concise and easy to understand, potentially omitting some internal details for clarity.\n",
        "\n",
        "Example of __str__\n",
        "\n",
        "\n",
        "\n",
        "```\n",
        "    class MyObject:\n",
        "        def __init__(self, value):\n",
        "            self.value = value\n",
        "\n",
        "        def __str__(self):\n",
        "            return f\"MyObject with value: {self.value}\"\n",
        "\n",
        "    obj = MyObject(10)\n",
        "    print(obj)  # Calls obj.__str__()\n",
        "```\n",
        "\n",
        ">  __repr__ (for unambiguous representation, aimed at developers):\n",
        "\n",
        "> This method is intended to return a \"developer-friendly\" or formal string representation of an object. Its primary goal is to provide an unambiguous string that, ideally, could be used to recreate the object (e.g., by passing it to eval()). It's crucial for debugging, logging, and introspection, as it provides detailed information about the object's state. When __str__ is not defined for a class, print() and str() will fall back to using __repr__.\n",
        "\n",
        "\n",
        "\n",
        "```\n",
        "    class MyObject:\n",
        "        def __init__(self, value):\n",
        "            self.value = value\n",
        "\n",
        "        def __repr__(self):\n",
        "            return f\"MyObject(value={self.value})\"\n",
        "\n",
        "    obj = MyObject(10)\n",
        "    print(repr(obj)) # Calls obj.__repr__()\n",
        "```\n",
        "\n",
        "\n",
        "\n",
        "---\n",
        "\n",
        "\n"
      ],
      "metadata": {
        "id": "WTCnvHg8TZnF"
      }
    },
    {
      "cell_type": "markdown",
      "source": [
        "\n",
        "20. What is the significance of the 'super()' function in Python?\n",
        "\n",
        "> The super() function in Python is a built-in function with significant importance in object-oriented programming, particularly within the context of class inheritance. Its primary significance lies in facilitating access to methods and properties of a parent or superclass from a child or subclass.\n",
        "\n",
        "> **Key significances of super():**\n",
        "\n",
        "> **Calling Parent Class Methods:**\n",
        "\n",
        "> super() allows a subclass to call methods defined in its parent class, even if those methods are overridden in the subclass. This is crucial for extending or customizing inherited behavior while still leveraging the parent's implementation.\n",
        "\n",
        ">**Proper Initialization in Inheritance:**\n",
        "\n",
        "> It is commonly used within the __init__() method of a subclass to call the __init__() method of the parent class. This ensures that inherited attributes are correctly initialized, promoting code reuse and preventing redundant attribute setup in subclasses.\n",
        "\n",
        "> **Managing Multiple Inheritance:**\n",
        "\n",
        "> In scenarios involving multiple inheritance, super() helps manage the Method Resolution Order (MRO). The MRO dictates the sequence in which Python searches for methods in the inheritance hierarchy, and super() ensures that the correct method from the appropriate parent class is invoked, resolving potential conflicts.\n",
        "\n",
        "\n",
        "---\n",
        "\n"
      ],
      "metadata": {
        "id": "WDotdcHoUfkt"
      }
    },
    {
      "cell_type": "markdown",
      "source": [
        "21. What is the significance of the_del__ method in Python?\n",
        "\n",
        "> The __del__ method in Python serves as a destructor for objects. Its significance lies in providing a mechanism for performing cleanup actions when an object is about to be destroyed or garbage collected.\n",
        "\n",
        "> # Significance of the __del__ method's :\n",
        "\n",
        "> **Resource Management:**\n",
        "\n",
        ">It allows for the release of external resources held by an object, such as closing open file handles, network connections, or database connections, ensuring proper resource management and preventing leaks.\n",
        "\n",
        "> **Automatic Invocation:**\n",
        "\n",
        "> Unlike regular methods, __del__ is automatically invoked by the Python interpreter when an object's reference count drops to zero, indicating it is no longer referenced and can be garbage collected. This eliminates the need for manual cleanup calls in many cases.\n",
        "\n",
        "> **Cleanup Operations:**\n",
        "\n",
        "> It provides a designated place within a class to define any necessary cleanup logic that should be executed before an object's memory is reclaimed.\n",
        "\n",
        "\n",
        "\n",
        "---\n",
        "\n"
      ],
      "metadata": {
        "id": "UAYZ6yBUVF_-"
      }
    },
    {
      "cell_type": "markdown",
      "source": [
        "22. What is the difference between @staticmethod and @classmethod in Python?\n",
        "\n",
        "> **@classmethod:**\n",
        "\n",
        "* Takes the class itself (cls) as its first argument.\n",
        "\n",
        "* Can access and modify class-level attributes.\n",
        "\n",
        "* Often used for factory methods or alternative constructors that create instances of the class, or for methods that operate on the class's state.\n",
        "\n",
        "\n",
        "\n",
        "```\n",
        "class MyClass:\n",
        "\n",
        "        class_attribute = \"I am a class attribute\"\n",
        "\n",
        "        @classmethod\n",
        "        def print_class_attribute(cls):\n",
        "            print(cls.class_attribute)\n",
        "\n",
        "        @classmethod\n",
        "        def create_instance(cls, value):\n",
        "            return cls(value) # Creates a new instance of MyClass\n",
        "```\n",
        "\n",
        "> **@staticmethod:**\n",
        "\n",
        "* Does not take any special first argument (like self or cls).\n",
        "\n",
        "* Cannot directly access or modify class-level or instance-level attributes.\n",
        "\n",
        "* Behaves like a regular function defined within the class's namespace, used for utility functions that logically belong to the class but don't depend on its state or instance data.\n",
        "\n",
        "\n",
        "\n",
        "```\n",
        "    class MyClass:\n",
        "        @staticmethod\n",
        "        def utility_function(x, y):\n",
        "            return x + y\n",
        "```\n",
        "\n",
        "\n",
        "---\n",
        "\n",
        "\n"
      ],
      "metadata": {
        "id": "aM8UmkxkVtVD"
      }
    },
    {
      "cell_type": "markdown",
      "source": [
        "23. How does polymorphism work in Python with inheritance?\n",
        "\n",
        "> Polymorphism in Python, when combined with inheritance, allows objects of different classes that share a common base class to be treated in a uniform manner, despite their individual differences in implementation. This is primarily achieved through method overriding.\n",
        "\n",
        "> # It works:\n",
        "\n",
        "> **Inheritance Hierarchy:**\n",
        "\n",
        "* You establish an inheritance hierarchy where one or more child classes (subclasses) inherit from a parent class (superclass). This creates an \"is-a\" relationship, meaning a child class \"is a\" type of the parent class.\n",
        "\n",
        "> **Common Interface (Method Overriding):**\n",
        "\n",
        "* The parent class defines a method (or methods) that serves as a common interface. Child classes then override this method, providing their own specific implementation while maintaining the same method signature (name and parameters).\n",
        "\n",
        "> **Polymorphic Behavior:**\n",
        "\n",
        "* When you call this overridden method on an object, Python's dynamic typing determines which specific implementation of the method to execute at runtime, based on the actual type of the object. This means you can have a collection of objects of different child classes, all derived from the same parent, and iterate through them, calling the same method name, and each object will execute its own specialized version.\n",
        "\n",
        "Example\n",
        "\n",
        "\n",
        "\n",
        "```\n",
        "class Animal:\n",
        "    def make_sound(self):\n",
        "        pass  # Placeholder for common behavior\n",
        "\n",
        "class Dog(Animal):\n",
        "    def make_sound(self):\n",
        "        return \"Woof!\"\n",
        "\n",
        "class Cat(Animal):\n",
        "    def make_sound(self):\n",
        "        return \"Meow!\"\n",
        "\n",
        "animals = [Dog(), Cat()]\n",
        "\n",
        "for animal in animals:\n",
        "    print(animal.make_sound())\n",
        "```\n",
        "\n",
        "\n",
        "---\n",
        "\n",
        "\n"
      ],
      "metadata": {
        "id": "oBWX2y2_Wa_U"
      }
    },
    {
      "cell_type": "markdown",
      "source": [
        "24. What is method chaining in Python OOP?\n",
        "\n",
        "> Method chaining in  python oops is a technique where multiple method calls are invoked sequentially on the same object in a single line of code. This is achieved by having each method return the object itself (typically self) after performing its operation.\n",
        "\n",
        "\n",
        "---\n",
        "\n",
        "\n"
      ],
      "metadata": {
        "id": "Y_oavtulXB0V"
      }
    },
    {
      "cell_type": "markdown",
      "source": [
        "25. What is the purpose of the_call__ method in Python?\n",
        "\n",
        "> The purpose of the __call__ method in Python is to make instances of a class callable, meaning they can be treated and invoked like functions.\n",
        "\n",
        "* When the __call__ method is defined within a class, and an instance of that class is subsequently \"called\" using parentheses (e.g., my_object()), the __call__ method of that instance is automatically executed. This allows objects to encapsulate behavior and data, and then expose that behavior through a function-like interface.\n",
        "\n",
        ">  **Common use cases for the __call__ method include:**\n",
        "\n",
        "> i. Creating callable objects:\n",
        "\n",
        "* Allowing instances to behave as if they were functions, which can be useful for encapsulating specific logic or state within an object that needs to be invoked directly.\n",
        "\n",
        "> ii. Implementing decorators:\n",
        "\n",
        "* Decorators often leverage __call__ to wrap functions and add functionality before or after the decorated function's execution.\n",
        "\n",
        "> iii. Building function factories:\n",
        "\n",
        "* Objects can be designed to generate and return functions based on internal state or parameters passed during the object's instantiation.\n",
        "\n",
        "> iv. Creating objects with stateful behavior:\n",
        "\n",
        "* When an object needs to maintain internal state between calls, __call__ provides a mechanism to interact with that state in a function-like manner.\n",
        "\n",
        "\n",
        "\n",
        "---\n",
        "\n",
        "\n",
        "\n",
        "---\n",
        "\n"
      ],
      "metadata": {
        "id": "-mlXr6MJXdwc"
      }
    },
    {
      "cell_type": "markdown",
      "source": [
        "# Practical Question\n"
      ],
      "metadata": {
        "id": "i7cFqDFZYSrk"
      }
    },
    {
      "cell_type": "code",
      "source": [
        "# 1. Create a parent class Animal with a method speak() that prints a generic message. Create a child class Dog that overrides the speak() method to print \"Bark!\".\n",
        "\n",
        "class Animal:\n",
        "    def speak(self):\n",
        "        print(\"Generic animal sound\")\n",
        "\n",
        "class Dog(Animal):\n",
        "    def speak(self):\n",
        "        print(\"Bark!\")"
      ],
      "metadata": {
        "id": "UN-nMuzQYSIc"
      },
      "execution_count": 2,
      "outputs": []
    },
    {
      "cell_type": "code",
      "source": [
        "#  2. Write a program to create an abstract class Shape with a method area(). Derive classes Circle and Rectangle from it and implement the area() method in both.\n",
        "\n",
        "from abc import ABC, abstractmethod\n",
        "import math\n",
        "\n",
        "class Shape(ABC):\n",
        "    @abstractmethod\n",
        "    def area(self):\n",
        "        pass\n",
        "\n",
        "class Circle(Shape):\n",
        "    def __init__(self, radius):\n",
        "        self.radius = radius\n",
        "\n",
        "    def area(self):\n",
        "        return math.pi * self.radius**2\n",
        "\n",
        "class Rectangle(Shape):\n",
        "    def __init__(self, length, width):\n",
        "        self.length = length\n",
        "        self.width = width\n",
        "\n",
        "    def area(self):\n",
        "        return self.length * self.width\n",
        "\n",
        "# Example usage:\n",
        "circle = Circle(5)\n",
        "rectangle = Rectangle(4, 6)\n",
        "\n",
        "print(f\"Area of Circle: {circle.area()}\")\n",
        "print(f\"Area of Rectangle: {rectangle.area()}\")"
      ],
      "metadata": {
        "colab": {
          "base_uri": "https://localhost:8080/"
        },
        "id": "XqoPuLfDYs29",
        "outputId": "6911e7e7-82d3-4641-bde8-2f4211ce69f7"
      },
      "execution_count": 28,
      "outputs": [
        {
          "output_type": "stream",
          "name": "stdout",
          "text": [
            "Area of Circle: 78.53981633974483\n",
            "Area of Rectangle: 24\n"
          ]
        }
      ]
    },
    {
      "cell_type": "code",
      "source": [
        "# 3. Implement a multi-level inheritance scenario where a class Vehicle has an attribute type. Derive a class Car and further derive a class ElectricCar that adds a battery attribute.\n",
        "class Vehicle:\n",
        "    def __init__(self, type):\n",
        "        self.type = type\n",
        "\n",
        "class Car(Vehicle):\n",
        "    def __init__(self, type, model):\n",
        "        super().__init__(type)\n",
        "        self.model = model\n",
        "\n",
        "class ElectricCar(Car):\n",
        "    def __init__(self, type, model, battery):\n",
        "        super().__init__(type, model)\n",
        "        self.battery = battery\n",
        "\n",
        "# Example usage:\n",
        "my_electric_car = ElectricCar(\"Electric\", \"Model S\", \"100kWh\")\n",
        "print(f\"My car is a {my_electric_car.type} {my_electric_car.model} with a {my_electric_car.battery} battery.\")\n",
        "\n"
      ],
      "metadata": {
        "colab": {
          "base_uri": "https://localhost:8080/"
        },
        "id": "D250oNK5Y2IY",
        "outputId": "68e603b6-99fd-4379-d49b-f1c515ac7631"
      },
      "execution_count": 4,
      "outputs": [
        {
          "output_type": "stream",
          "name": "stdout",
          "text": [
            "My car is a Electric Model S with a 100kWh battery.\n"
          ]
        }
      ]
    },
    {
      "cell_type": "code",
      "metadata": {
        "colab": {
          "base_uri": "https://localhost:8080/"
        },
        "id": "23c0cfd3",
        "outputId": "d1bda996-50d4-4ae3-c52f-76aba61ef184"
      },
      "source": [
        "# 4. Demonstrate polymorphism by creating a base class Bird with a method fly(). Create two derived classes Sparrow and Penguin that override the fly() method.\n",
        "\n",
        "class Bird:\n",
        "    def fly(self):\n",
        "        print(\"Birds can fly\")\n",
        "\n",
        "class Sparrow(Bird):\n",
        "    def fly(self):\n",
        "        print(\"Sparrows can fly at high speeds\")\n",
        "\n",
        "class Penguin(Bird):\n",
        "    def fly(self):\n",
        "        print(\"Penguins cannot fly, but they can swim\")\n",
        "\n",
        "# Demonstrate polymorphism\n",
        "birds = [Bird(), Sparrow(), Penguin()]\n",
        "\n",
        "for bird in birds:\n",
        "    bird.fly()"
      ],
      "execution_count": 29,
      "outputs": [
        {
          "output_type": "stream",
          "name": "stdout",
          "text": [
            "Birds can fly\n",
            "Sparrows can fly at high speeds\n",
            "Penguins cannot fly, but they can swim\n"
          ]
        }
      ]
    },
    {
      "cell_type": "code",
      "source": [
        "# 5. Write a program to demonstrate encapsulation by creating a class BankAccount with private attributes balance and methods to deposit, withdraw, and check balance.\n",
        "\n",
        "class BankAccount:\n",
        "    def __init__(self, initial_balance=0):\n",
        "        self._balance = initial_balance  # Using a single underscore convention for protected attribute\n",
        "\n",
        "    def deposit(self, amount):\n",
        "        if amount > 0:\n",
        "            self._balance += amount\n",
        "            print(f\"Deposited: {amount}. New balance: {self._balance}\")\n",
        "        else:\n",
        "            print(\"Deposit amount must be positive.\")\n",
        "\n",
        "    def withdraw(self, amount):\n",
        "        if 0 < amount <= self._balance:\n",
        "            self._balance -= amount\n",
        "            print(f\"Withdrew: {amount}. New balance: {self._balance}\")\n",
        "        elif amount > self._balance:\n",
        "            print(\"Insufficient funds.\")\n",
        "        else:\n",
        "            print(\"Withdrawal amount must be positive.\")\n",
        "\n",
        "    def check_balance(self):\n",
        "        print(f\"Current balance: {self._balance}\")\n",
        "\n",
        "# Example usage:\n",
        "account = BankAccount(100)\n",
        "account.check_balance()\n",
        "account.deposit(50)\n",
        "account.withdraw(30)\n",
        "account.withdraw(200)\n",
        "account.check_balance()"
      ],
      "metadata": {
        "colab": {
          "base_uri": "https://localhost:8080/"
        },
        "id": "X__0FBpPZPgW",
        "outputId": "ab07badb-e053-4f2a-f79a-0103d3dd4988"
      },
      "execution_count": 19,
      "outputs": [
        {
          "output_type": "stream",
          "name": "stdout",
          "text": [
            "Current balance: 100\n",
            "Deposited: 50. New balance: 150\n",
            "Withdrew: 30. New balance: 120\n",
            "Insufficient funds.\n",
            "Current balance: 120\n"
          ]
        }
      ]
    },
    {
      "cell_type": "code",
      "source": [
        "\n",
        "# 6. Demonstrate runtime polymorphism using a method play() in a base class Instrument. Derive classes Guitar and Piano that implement their own version of play().\n",
        "class Instrument:\n",
        "    def play(self):\n",
        "        pass  # Base class method\n",
        "\n",
        "class Guitar(Instrument):\n",
        "    def play(self):\n",
        "        print(\"Strumming the guitar\")\n",
        "\n",
        "class Piano(Instrument):\n",
        "    def play(self):\n",
        "        print(\"Playing the piano keys\")\n",
        "\n",
        "# Demonstrate polymorphism\n",
        "instruments = [Guitar(), Piano()]\n",
        "\n",
        "for instrument in instruments:\n",
        "    instrument.play()\n"
      ],
      "metadata": {
        "colab": {
          "base_uri": "https://localhost:8080/"
        },
        "id": "1npujeVbZV7d",
        "outputId": "2c3f6acf-f6ca-445a-b8bb-4718bb2866fc"
      },
      "execution_count": 8,
      "outputs": [
        {
          "output_type": "stream",
          "name": "stdout",
          "text": [
            "Strumming the guitar\n",
            "Playing the piano keys\n"
          ]
        }
      ]
    },
    {
      "cell_type": "code",
      "source": [
        "# 7. Create a class MathOperations with a class method add_numbers() to add two numbers and a static method subtract_numbers() to subtract two numbers.\n",
        "class MathOperations:\n",
        "    @classmethod\n",
        "    def add_numbers(cls, x, y):\n",
        "        return x + y\n",
        "\n",
        "    @staticmethod\n",
        "    def subtract_numbers(x, y):\n",
        "        return x - y\n",
        "\n",
        "# Example usage:\n",
        "sum_result = MathOperations.add_numbers(5, 3)\n",
        "print(f\"Sum: {sum_result}\")\n",
        "\n",
        "diff_result = MathOperations.subtract_numbers(10, 4)\n",
        "print(f\"Difference: {diff_result}\")"
      ],
      "metadata": {
        "colab": {
          "base_uri": "https://localhost:8080/"
        },
        "id": "VQhoehepZx_8",
        "outputId": "bd91ee12-1aef-4961-fcf6-25ea17862be6"
      },
      "execution_count": 9,
      "outputs": [
        {
          "output_type": "stream",
          "name": "stdout",
          "text": [
            "Sum: 8\n",
            "Difference: 6\n"
          ]
        }
      ]
    },
    {
      "cell_type": "code",
      "source": [
        "#8. Implement a class Person with a class method to count the total number of persons created.\n",
        "class Person:\n",
        "    count = 0  # Class variable to keep track of the number of instances\n",
        "\n",
        "    def __init__(self, name):\n",
        "        self.name = name\n",
        "        Person.count += 1  # Increment the class variable when a new instance is created\n",
        "\n",
        "    @classmethod\n",
        "    def get_person_count(cls):\n",
        "        return cls.count\n",
        "\n",
        "# Example usage:\n",
        "person1 = Person(\"Alice\")\n",
        "person2 = Person(\"Bob\")\n",
        "person3 = Person(\"Charlie\")\n",
        "\n",
        "print(f\"Total number of persons created: {Person.get_person_count()}\")\n"
      ],
      "metadata": {
        "colab": {
          "base_uri": "https://localhost:8080/"
        },
        "id": "WpaOzKEEZ5TF",
        "outputId": "579efe3b-c1b0-41cc-f511-f455ebb3cc79"
      },
      "execution_count": 11,
      "outputs": [
        {
          "output_type": "stream",
          "name": "stdout",
          "text": [
            "Total number of persons created: 3\n"
          ]
        }
      ]
    },
    {
      "cell_type": "code",
      "source": [
        "#9. Write a class Fraction with attributes numerator and denominator. Override the str method to display the fraction as \"numerator/denominator\".\n",
        "\n",
        "class Fraction:\n",
        "    def __init__(self, numerator, denominator):\n",
        "        self.numerator = numerator\n",
        "        self.denominator = denominator\n",
        "\n",
        "    def __str__(self):\n",
        "        return f\"{self.numerator}/{self.denominator}\"\n",
        "\n",
        "# Example usage:\n",
        "fraction1 = Fraction(3, 4)\n",
        "print(fraction1)\n",
        "\n",
        "fraction2 = Fraction(1, 2)\n",
        "print(fraction2)"
      ],
      "metadata": {
        "colab": {
          "base_uri": "https://localhost:8080/"
        },
        "id": "01xApMG8aCxk",
        "outputId": "a52a9c1e-4016-4f74-a639-b271dc4872f0"
      },
      "execution_count": 12,
      "outputs": [
        {
          "output_type": "stream",
          "name": "stdout",
          "text": [
            "3/4\n",
            "1/2\n"
          ]
        }
      ]
    },
    {
      "cell_type": "code",
      "source": [
        "# 10. Demonstrate operator overloading by creating a class Vector and overriding the add method to add two vectors.\n",
        "class Vector:\n",
        "    def __init__(self, x, y):\n",
        "        self.x = x\n",
        "        self.y = y\n",
        "\n",
        "    def __add__(self, other):\n",
        "        if isinstance(other, Vector):\n",
        "            return Vector(self.x + other.x, self.y + other.y)\n",
        "        else:\n",
        "            raise TypeError(\"Can only add Vector objects\")\n",
        "\n",
        "    def __str__(self):\n",
        "        return f\"Vector({self.x}, {self.y})\"\n",
        "\n",
        "# Example usage:\n",
        "vector1 = Vector(2, 3)\n",
        "vector2 = Vector(4, 5)\n",
        "\n",
        "vector3 = vector1 + vector2\n",
        "print(vector3)"
      ],
      "metadata": {
        "colab": {
          "base_uri": "https://localhost:8080/"
        },
        "id": "cSAMehkTaRzu",
        "outputId": "92f9471b-1ec5-41cd-8a56-d054590a7108"
      },
      "execution_count": 13,
      "outputs": [
        {
          "output_type": "stream",
          "name": "stdout",
          "text": [
            "Vector(6, 8)\n"
          ]
        }
      ]
    },
    {
      "cell_type": "code",
      "source": [
        "# 11. Create a class Person with attributes name and age. Add a method greet() that prints \"Hello, my name is {name} and I am {age} years old.\"\n",
        "\n",
        "class Person:\n",
        "    def __init__(self, name, age):\n",
        "        self.name = name\n",
        "        self.age = age\n",
        "\n",
        "    def greet(self):\n",
        "        print(f\"Hello, my name is {self.name} and I am {self.age} years old.\")\n",
        "\n",
        "# Example usage:\n",
        "person = Person(\"Alice\", 30)\n",
        "person.greet()"
      ],
      "metadata": {
        "colab": {
          "base_uri": "https://localhost:8080/"
        },
        "id": "6PUhSRVeaaot",
        "outputId": "c9739dfa-c347-42f1-fed0-083faca6b238"
      },
      "execution_count": 14,
      "outputs": [
        {
          "output_type": "stream",
          "name": "stdout",
          "text": [
            "Hello, my name is Alice and I am 30 years old.\n"
          ]
        }
      ]
    },
    {
      "cell_type": "code",
      "source": [
        "# 12. Implement a class Student with attributes name and grades. Create a method average_grade() to compute the average of the grades.\n",
        "\n",
        "class Student:\n",
        "    def __init__(self, name, grades):\n",
        "        self.name = name\n",
        "        self.grades = grades\n",
        "\n",
        "    def average_grade(self):\n",
        "        if not self.grades:\n",
        "            return 0  # Handle empty grades list\n",
        "        return sum(self.grades) / len(self.grades)\n",
        "\n",
        "# Example usage:\n",
        "student1 = Student(\"Bob\", [85, 90, 78, 92])\n",
        "print(f\"{student1.name}'s average grade: {student1.average_grade()}\")\n",
        "\n",
        "student2 = Student(\"Eve\", [])\n",
        "print(f\"{student2.name}'s average grade: {student2.average_grade()}\")"
      ],
      "metadata": {
        "colab": {
          "base_uri": "https://localhost:8080/"
        },
        "id": "8VdHAoRIarSa",
        "outputId": "2bf48b1f-8f51-45ad-876d-11604d764143"
      },
      "execution_count": 15,
      "outputs": [
        {
          "output_type": "stream",
          "name": "stdout",
          "text": [
            "Bob's average grade: 86.25\n",
            "Eve's average grade: 0\n"
          ]
        }
      ]
    },
    {
      "cell_type": "code",
      "source": [
        "#13. Create a class Rectangle with methods set_dimensions() to set the dimensions and area() to calculate the area.\n",
        "\n",
        "class Rectangle:\n",
        "    def __init__(self):\n",
        "        self.length = 0\n",
        "        self.width = 0\n",
        "\n",
        "    def set_dimensions(self, length, width):\n",
        "        self.length = length\n",
        "        self.width = width\n",
        "\n",
        "    def area(self):\n",
        "        return self.length * self.width\n",
        "\n",
        "# Example usage:\n",
        "rectangle = Rectangle()\n",
        "rectangle.set_dimensions(5, 10)\n",
        "print(f\"The area of the rectangle is: {rectangle.area()}\")"
      ],
      "metadata": {
        "colab": {
          "base_uri": "https://localhost:8080/"
        },
        "id": "n_5xXYppa1Jp",
        "outputId": "31ab1b6a-4fd0-41dd-da8e-33eb12145830"
      },
      "execution_count": 16,
      "outputs": [
        {
          "output_type": "stream",
          "name": "stdout",
          "text": [
            "The area of the rectangle is: 50\n"
          ]
        }
      ]
    },
    {
      "cell_type": "code",
      "source": [
        "# 14. Create a class Employee with a method calculate_salary() that computes the salary based on hours worked and hourly rate. Create a derived class Manager that adds a bonus to the salary.\n",
        "\n",
        "class Employee:\n",
        "    def __init__(self, hours_worked, hourly_rate):\n",
        "        self.hours_worked = hours_worked\n",
        "        self.hourly_rate = hourly_rate\n",
        "\n",
        "    def calculate_salary(self):\n",
        "        return self.hours_worked * self.hourly_rate\n",
        "\n",
        "class Manager(Employee):\n",
        "    def __init__(self, hours_worked, hourly_rate, bonus):\n",
        "        super().__init__(hours_worked, hourly_rate)\n",
        "        self.bonus = bonus\n",
        "\n",
        "    def calculate_salary(self):\n",
        "        base_salary = super().calculate_salary()\n",
        "        return base_salary + self.bonus\n",
        "\n",
        "# Example usage:\n",
        "employee = Employee(40, 20)\n",
        "print(f\"Employee salary: {employee.calculate_salary()}\")\n",
        "\n",
        "manager = Manager(40, 25, 500)\n",
        "print(f\"Manager salary: {manager.calculate_salary()}\")\n"
      ],
      "metadata": {
        "colab": {
          "base_uri": "https://localhost:8080/"
        },
        "id": "MBliYe6Ea-8n",
        "outputId": "61bfe01c-2fa4-4819-e417-ed03ae574d38"
      },
      "execution_count": 18,
      "outputs": [
        {
          "output_type": "stream",
          "name": "stdout",
          "text": [
            "Employee salary: 800\n",
            "Manager salary: 1500\n"
          ]
        }
      ]
    },
    {
      "cell_type": "code",
      "source": [
        "#15. Create a class Product with attributes name, price, and quantity. Implement a method total_price() that calculates the total price of the product.\n",
        "\n",
        "class Product:\n",
        "    def __init__(self, name, price, quantity):\n",
        "        self.name = name\n",
        "        self.price = price\n",
        "        self.quantity = quantity\n",
        "\n",
        "    def total_price(self):\n",
        "        return self.price * self.quantity\n",
        "\n",
        "# Example usage:\n",
        "product1 = Product(\"Laptop\", 1000, 2)\n",
        "print(f\"Total price of {product1.name}: {product1.total_price()}\")"
      ],
      "metadata": {
        "colab": {
          "base_uri": "https://localhost:8080/"
        },
        "id": "7LNSmGtibOhJ",
        "outputId": "4f79a7a9-a4ba-4289-bffa-ef776339389d"
      },
      "execution_count": 21,
      "outputs": [
        {
          "output_type": "stream",
          "name": "stdout",
          "text": [
            "Total price of Laptop: 2000\n"
          ]
        }
      ]
    },
    {
      "cell_type": "code",
      "source": [
        "#16. Create a class Animal with an abstract method sound(). Create two derived classes Cow and Sheep that implement the sound() method.\n",
        "\n",
        "from abc import ABC, abstractmethod\n",
        "\n",
        "class Animal(ABC):\n",
        "    @abstractmethod\n",
        "    def sound(self):\n",
        "        pass\n",
        "\n",
        "class Cow(Animal):\n",
        "    def sound(self):\n",
        "        return \"Moo!\"\n",
        "\n",
        "class Sheep(Animal):\n",
        "    def sound(self):\n",
        "        return \"Baa!\"\n",
        "\n",
        "# Example usage:\n",
        "cow = Cow()\n",
        "sheep = Sheep()\n",
        "\n",
        "print(f\"Cow says: {cow.sound()}\")\n",
        "print(f\"Sheep says: {sheep.sound()}\")"
      ],
      "metadata": {
        "colab": {
          "base_uri": "https://localhost:8080/"
        },
        "id": "dorMp1pNbd0L",
        "outputId": "8be531d8-ef3a-4abb-82f9-d5391ac0f131"
      },
      "execution_count": 22,
      "outputs": [
        {
          "output_type": "stream",
          "name": "stdout",
          "text": [
            "Cow says: Moo!\n",
            "Sheep says: Baa!\n"
          ]
        }
      ]
    },
    {
      "cell_type": "code",
      "source": [
        "# 17. Create a class Book with attributes title, author, and year_published. Add a method get_book_info() that returns a formatted string with the book's details.\n",
        "\n",
        "class Book:\n",
        "    def __init__(self, title, author, year_published):\n",
        "        self.title = title\n",
        "        self.author = author\n",
        "        self.year_published = year_published\n",
        "\n",
        "    def get_book_info(self):\n",
        "        return f\"Title: {self.title}\\nAuthor: {self.author}\\nYear Published: {self.year_published}\"\n",
        "\n",
        "# Example usage:\n",
        "book = Book(\"The Hitchhiker's Guide to the Galaxy\", \"Douglas Adams\", 1979)\n",
        "print(book.get_book_info())"
      ],
      "metadata": {
        "colab": {
          "base_uri": "https://localhost:8080/"
        },
        "id": "z4yMQJz0cJac",
        "outputId": "2796e3f8-b54f-49ac-ff66-b27f79ef2e20"
      },
      "execution_count": 24,
      "outputs": [
        {
          "output_type": "stream",
          "name": "stdout",
          "text": [
            "Title: The Hitchhiker's Guide to the Galaxy\n",
            "Author: Douglas Adams\n",
            "Year Published: 1979\n"
          ]
        }
      ]
    },
    {
      "cell_type": "code",
      "source": [
        "# 18. Create a class House with attributes address and price. Create a derived class Mansion that adds an attribute number of_rooms.\n",
        "\n",
        "class House:\n",
        "    def __init__(self, address, price):\n",
        "        self.address = address\n",
        "        self.price = price\n",
        "\n",
        "class Mansion(House):\n",
        "    def __init__(self, address, price, number_of_rooms):\n",
        "        super().__init__(address, price)\n",
        "        self.number_of_rooms = number_of_rooms\n",
        "\n",
        "# Example usage:\n",
        "house1 = House(\"123 Main St\", 300000)\n",
        "mansion1 = Mansion(\"456 Elm St\", 1500000, 10)\n",
        "\n",
        "print(f\"House address: {house1.address}, Price: {house1.price}\")\n",
        "print(f\"Mansion address: {mansion1.address}, Price: {mansion1.price}, Number of rooms: {mansion1.number_of_rooms}\")"
      ],
      "metadata": {
        "colab": {
          "base_uri": "https://localhost:8080/"
        },
        "id": "2HHr_QCWcXOK",
        "outputId": "35790091-53e5-48ac-f40e-bbfb76c20bab"
      },
      "execution_count": 27,
      "outputs": [
        {
          "output_type": "stream",
          "name": "stdout",
          "text": [
            "House address: 123 Main St, Price: 300000\n",
            "Mansion address: 456 Elm St, Price: 1500000, Number of rooms: 10\n"
          ]
        }
      ]
    },
    {
      "cell_type": "markdown",
      "source": [
        "\n",
        "\n",
        "---\n",
        "\n",
        "---\n",
        "\n",
        "\n",
        "\n"
      ],
      "metadata": {
        "id": "juJK-gYAdTU9"
      }
    }
  ]
}